{
 "cells": [
  {
   "cell_type": "code",
   "execution_count": 1,
   "metadata": {},
   "outputs": [],
   "source": [
    "# Title: Chapter 2 Exercises page 111\n",
    "# Author: Stefanie Molin\n",
    "# Date: 13 September 2024 \n",
    "# Modified By: Andres Melendez\n",
    "# Description: The following are Exercises 1-6 in the Hands-On Data Analysis (2nd Edition), page 111. "
   ]
  },
  {
   "cell_type": "code",
   "execution_count": 2,
   "metadata": {},
   "outputs": [
    {
     "name": "stdout",
     "output_type": "stream",
     "text": [
      "File loading attempt completed.\n"
     ]
    }
   ],
   "source": [
    "import pandas as pd\n",
    "\n",
    "def calculate_summary_statistics(dataframe, place):\n",
    "    \"\"\"\n",
    "    Filter the DataFrame for earthquakes in a given place and return the filtered DataFrame.\n",
    "\n",
    "    Parameters:\n",
    "    dataframe (pd.DataFrame): The DataFrame containing earthquake data.\n",
    "    place (str): The location to filter by (e.g., 'Japan').\n",
    "\n",
    "    Returns:\n",
    "    pd.DataFrame: The filtered DataFrame for the specified place.\n",
    "    \"\"\"\n",
    "    # Filter the DataFrame for earthquakes in the specified place\n",
    "    filtered_data = dataframe[dataframe['parsed_place'].str.contains(place)]\n",
    "    \n",
    "    # Return the filtered DataFrame\n",
    "    return filtered_data\n",
    "\n",
    "try:\n",
    "    # Attempt to load the earthquake data\n",
    "    df = pd.read_csv('data/parsed.csv')\n",
    "except FileNotFoundError as e:\n",
    "    # Handle the case where the file is not found\n",
    "    print(f\"Error: {e}. Please ensure the file path is correct.\")\n",
    "finally:\n",
    "    print(\"File loading attempt completed.\")\n",
    "\n"
   ]
  },
  {
   "cell_type": "code",
   "execution_count": 3,
   "metadata": {},
   "outputs": [
    {
     "name": "stdout",
     "output_type": "stream",
     "text": [
      "The 95th percentile of earthquake magnitudes in Japan with 'mb' magnitude type is: 4.9\n"
     ]
    }
   ],
   "source": [
    "# Filter the DataFrame for Japan earthquakes with 'mb' magnitude type\n",
    "# The filter checks if the 'parsed_place' contains 'Japan' and if the 'magType' equals 'mb'.\n",
    "japan_earthquakes = calculate_summary_statistics(df, 'Japan')\n",
    "japan_mb_earthquakes = japan_earthquakes[japan_earthquakes['magType'] == 'mb']\n",
    "\n",
    "# Calculate the 95th percentile for the magnitude data\n",
    "# Using the quantile method to determine the 95th percentile of the 'mag' column.\n",
    "percentile_95 = japan_mb_earthquakes['mag'].quantile(0.95)\n",
    "\n",
    "# Output the result\n",
    "print(f\"The 95th percentile of earthquake magnitudes in Japan with 'mb' magnitude type is: {percentile_95}\")\n",
    "\n"
   ]
  },
  {
   "cell_type": "code",
   "execution_count": 4,
   "metadata": {},
   "outputs": [
    {
     "data": {
      "text/plain": [
       "23.12925170068027"
      ]
     },
     "execution_count": 4,
     "metadata": {},
     "output_type": "execute_result"
    }
   ],
   "source": [
    "# Filter the DataFrame for earthquakes in Indonesia\n",
    "# The filter uses 'parsed_place' to check for records that contain 'Indonesia'.\n",
    "indonesia_earthquakes = calculate_summary_statistics(df, 'Indonesia')\n",
    "\n",
    "# Calculate the total number of earthquakes in Indonesia\n",
    "total_earthquakes = len(indonesia_earthquakes)\n",
    "\n",
    "# Further filter for earthquakes that triggered tsunamis\n",
    "# A 'tsunami' value of 1 indicates that a tsunami occurred with the earthquake.\n",
    "tsunami_earthquakes = indonesia_earthquakes[indonesia_earthquakes['tsunami'] == 1]\n",
    "\n",
    "# Calculate the number of such earthquakes\n",
    "total_tsunami_earthquakes = len(tsunami_earthquakes)\n",
    "\n",
    "# Calculate and return the percentage of earthquakes that were coupled with tsunamis\n",
    "percentage_tsunami_earthquakes = (total_tsunami_earthquakes / total_earthquakes) * 100\n",
    "\n",
    "percentage_tsunami_earthquakes\n"
   ]
  },
  {
   "cell_type": "code",
   "execution_count": 5,
   "metadata": {},
   "outputs": [
    {
     "data": {
      "text/plain": [
       "count    681.000000\n",
       "mean       0.500073\n",
       "std        0.696710\n",
       "min       -0.500000\n",
       "25%       -0.100000\n",
       "50%        0.400000\n",
       "75%        0.900000\n",
       "max        2.900000\n",
       "Name: mag, dtype: float64"
      ]
     },
     "execution_count": 5,
     "metadata": {},
     "output_type": "execute_result"
    }
   ],
   "source": [
    "# Using the calculate_summary_statistics function to filter data for Nevada\n",
    "nevada_earthquakes = calculate_summary_statistics(df, 'Nevada')\n",
    "\n",
    "# Calculate the summary statistics for earthquakes in Nevada\n",
    "# 'describe' is a built-in pandas method that provides summary statistics\n",
    "summary_statistics_nevada = nevada_earthquakes['mag'].describe()\n",
    "\n",
    "# Output the summary statistics\n",
    "summary_statistics_nevada"
   ]
  },
  {
   "cell_type": "code",
   "execution_count": 6,
   "metadata": {},
   "outputs": [],
   "source": [
    "def is_ring_of_fire(location):\n",
    "    \"\"\"\n",
    "    Check if the location is part of the Ring of Fire.\n",
    "\n",
    "    Parameters:\n",
    "    location (str): The location to check (e.g., 'Japan').\n",
    "\n",
    "    Returns:\n",
    "    bool: True if the location is on the Ring of Fire, False otherwise.\n",
    "    \"\"\"\n",
    "    ring_of_fire_locations = [\n",
    "        'Alaska', 'Antarctic', 'Bolivia', 'California', 'Canada', 'Chile',\n",
    "        'Costa Rica', 'Ecuador', 'Fiji', 'Guatemala', 'Indonesia', 'Japan',\n",
    "        'Kermadec Islands', 'Mexico', 'New Zealand', 'Peru', 'Philippines',\n",
    "        'Russia', 'Taiwan', 'Tonga', 'Washington'\n",
    "    ]\n",
    "    # Check if any of the Ring of Fire locations are in the 'location' string\n",
    "    return any(loc in location for loc in ring_of_fire_locations)"
   ]
  },
  {
   "cell_type": "code",
   "execution_count": 7,
   "metadata": {},
   "outputs": [
    {
     "data": {
      "text/plain": [
       "(  alert  cdi      code                                             detail  \\\n",
       " 0   NaN  NaN  37389218  https://earthquake.usgs.gov/fdsnws/event/1/que...   \n",
       " 1   NaN  NaN  37389202  https://earthquake.usgs.gov/fdsnws/event/1/que...   \n",
       " 2   NaN  4.4  37389194  https://earthquake.usgs.gov/fdsnws/event/1/que...   \n",
       " 3   NaN  NaN  37389186  https://earthquake.usgs.gov/fdsnws/event/1/que...   \n",
       " 4   NaN  NaN  73096941  https://earthquake.usgs.gov/fdsnws/event/1/que...   \n",
       " \n",
       "        dmin  felt    gap           ids   mag magType  ...           time  \\\n",
       " 0  0.008693   NaN   85.0  ,ci37389218,  1.35      ml  ...  1539475168010   \n",
       " 1  0.020030   NaN   79.0  ,ci37389202,  1.29      ml  ...  1539475129610   \n",
       " 2  0.021370  28.0   21.0  ,ci37389194,  3.42      ml  ...  1539475062610   \n",
       " 3  0.026180   NaN   39.0  ,ci37389186,  0.44      ml  ...  1539474978070   \n",
       " 4  0.077990   NaN  192.0  ,nc73096941,  2.16      md  ...  1539474716050   \n",
       " \n",
       "                            title  tsunami        type  \\\n",
       " 0  M 1.4 - 9km NE of Aguanga, CA        0  earthquake   \n",
       " 1  M 1.3 - 9km NE of Aguanga, CA        0  earthquake   \n",
       " 2  M 3.4 - 8km NE of Aguanga, CA        0  earthquake   \n",
       " 3  M 0.4 - 9km NE of Aguanga, CA        0  earthquake   \n",
       " 4  M 2.2 - 10km NW of Avenal, CA        0  earthquake   \n",
       " \n",
       "                                                types     tz        updated  \\\n",
       " 0         ,geoserve,nearby-cities,origin,phase-data, -480.0  1539475395144   \n",
       " 1         ,geoserve,nearby-cities,origin,phase-data, -480.0  1539475253925   \n",
       " 2  ,dyfi,focal-mechanism,geoserve,nearby-cities,o... -480.0  1539536756176   \n",
       " 3         ,geoserve,nearby-cities,origin,phase-data, -480.0  1539475196167   \n",
       " 4  ,geoserve,nearby-cities,origin,phase-data,scit... -480.0  1539477547926   \n",
       " \n",
       "                                                  url  parsed_place  \\\n",
       " 0  https://earthquake.usgs.gov/earthquakes/eventp...    California   \n",
       " 1  https://earthquake.usgs.gov/earthquakes/eventp...    California   \n",
       " 2  https://earthquake.usgs.gov/earthquakes/eventp...    California   \n",
       " 3  https://earthquake.usgs.gov/earthquakes/eventp...    California   \n",
       " 4  https://earthquake.usgs.gov/earthquakes/eventp...    California   \n",
       " \n",
       "   Ring_of_Fire  \n",
       " 0         True  \n",
       " 1         True  \n",
       " 2         True  \n",
       " 3         True  \n",
       " 4         True  \n",
       " \n",
       " [5 rows x 28 columns],\n",
       " count    681.000000\n",
       " mean       0.500073\n",
       " std        0.696710\n",
       " min       -0.500000\n",
       " 25%       -0.100000\n",
       " 50%        0.400000\n",
       " 75%        0.900000\n",
       " max        2.900000\n",
       " Name: mag, dtype: float64)"
      ]
     },
     "execution_count": 7,
     "metadata": {},
     "output_type": "execute_result"
    }
   ],
   "source": [
    "# Add a column to indicate if the earthquake occurred in a Ring of Fire location\n",
    "df['Ring_of_Fire'] = df['parsed_place'].apply(is_ring_of_fire)\n",
    "\n",
    "# Output the first few rows to check the new column and the summary statistics\n",
    "df.head(), summary_statistics_nevada"
   ]
  },
  {
   "cell_type": "code",
   "execution_count": 8,
   "metadata": {},
   "outputs": [
    {
     "name": "stdout",
     "output_type": "stream",
     "text": [
      "Number of earthquakes in Ring of Fire locations: 7189\n",
      "Number of earthquakes outside Ring of Fire locations: 2143\n"
     ]
    }
   ],
   "source": [
    "# Calculate the number of earthquakes in Ring of Fire locations\n",
    "earthquakes_in_ring_of_fire = df[df['Ring_of_Fire'] == True].shape[0]\n",
    "\n",
    "# Calculate the number of earthquakes outside Ring of Fire locations\n",
    "earthquakes_outside_ring_of_fire = df[df['Ring_of_Fire'] == False].shape[0]\n",
    "\n",
    "# Output the counts for Ring of Fire and non-Ring of Fire locations\n",
    "print(f\"Number of earthquakes in Ring of Fire locations: {earthquakes_in_ring_of_fire}\")\n",
    "print(f\"Number of earthquakes outside Ring of Fire locations: {earthquakes_outside_ring_of_fire}\")\n"
   ]
  },
  {
   "cell_type": "code",
   "execution_count": 9,
   "metadata": {},
   "outputs": [
    {
     "name": "stdout",
     "output_type": "stream",
     "text": [
      "Number of tsunamis along the Ring of Fire: 45\n"
     ]
    }
   ],
   "source": [
    "# Calculate the number of tsunamis that occurred along the Ring of Fire\n",
    "tsunami_count_ring_of_fire = df[(df['Ring_of_Fire'] == True) & (df['tsunami'] == 1)].shape[0]\n",
    "\n",
    "# Output the tsunami count\n",
    "print(f\"Number of tsunamis along the Ring of Fire: {tsunami_count_ring_of_fire}\")\n"
   ]
  }
 ],
 "metadata": {
  "kernelspec": {
   "display_name": "Python 3",
   "language": "python",
   "name": "python3"
  },
  "language_info": {
   "codemirror_mode": {
    "name": "ipython",
    "version": 3
   },
   "file_extension": ".py",
   "mimetype": "text/x-python",
   "name": "python",
   "nbconvert_exporter": "python",
   "pygments_lexer": "ipython3",
   "version": "3.12.0"
  }
 },
 "nbformat": 4,
 "nbformat_minor": 2
}
