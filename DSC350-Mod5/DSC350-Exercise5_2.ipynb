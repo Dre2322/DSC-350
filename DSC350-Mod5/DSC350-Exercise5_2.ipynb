{
 "cells": [
  {
   "cell_type": "code",
   "execution_count": 1,
   "metadata": {},
   "outputs": [],
   "source": [
    "# Author: Andres Melendez\n",
    "# Date: 9 / 27 / 2024\n",
    "# Description: This script reads stock data from multiple CSV files, \n",
    "# adds ticker symbols, combines the data, and saves it to a new CSV file.\n",
    "\n",
    "import pandas as pd\n",
    "\n",
    "def load_data(file_path):\n",
    "    \"\"\"\n",
    "    Load stock data from a CSV file.\n",
    "\n",
    "    Parameters:\n",
    "    file_path (str): The path to the CSV file.\n",
    "\n",
    "    Returns:\n",
    "    DataFrame: A Pandas DataFrame containing the stock data.\n",
    "    \"\"\"\n",
    "    return pd.read_csv(file_path)\n",
    "\n"
   ]
  },
  {
   "cell_type": "code",
   "execution_count": 2,
   "metadata": {},
   "outputs": [],
   "source": [
    "# Try to read in the CSV files with error handling\n",
    "try:\n",
    "    aapl = load_data('data/Mod5/aapl.csv')\n",
    "    amzn = load_data('data/Mod5/amzn.csv')\n",
    "    fb = load_data('data/Mod5/fb.csv')\n",
    "    goog = load_data('data/Mod5/goog.csv')\n",
    "    nflx = load_data('data/Mod5/nflx.csv')\n",
    "except FileNotFoundError as e:\n",
    "    print(f\"Error: {e}\")\n",
    "\n"
   ]
  },
  {
   "cell_type": "code",
   "execution_count": 3,
   "metadata": {},
   "outputs": [
    {
     "name": "stdout",
     "output_type": "stream",
     "text": [
      "         date       high        low       open      close       volume ticker\n",
      "0  2018-01-02  43.075001  42.314999  42.540001  43.064999  102223600.0   AAPL\n",
      "1  2018-01-03  43.637501  42.990002  43.132500  43.057499  118071600.0   AAPL\n",
      "2  2018-01-04  43.367500  43.020000  43.134998  43.257500   89738400.0   AAPL\n",
      "3  2018-01-05  43.842499  43.262501  43.360001  43.750000   94640000.0   AAPL\n",
      "4  2018-01-08  43.902500  43.482498  43.587502  43.587502   82271200.0   AAPL\n"
     ]
    }
   ],
   "source": [
    "# Add a column for the ticker symbol\n",
    "aapl['ticker'] = 'AAPL'\n",
    "amzn['ticker'] = 'AMZN'\n",
    "fb['ticker'] = 'FB'\n",
    "goog['ticker'] = 'GOOG'\n",
    "nflx['ticker'] = 'NFLX'\n",
    "\n",
    "# Combine DataFrames and reset index\n",
    "faang = pd.concat([aapl, amzn, fb, goog, nflx], ignore_index=True)  # Reset index to ensure continuity\n",
    "\n",
    "# Save the result in a CSV file called faang.csv\n",
    "faang.to_csv('faang.csv', index=False)  # Exclude the index column in the output\n",
    "\n",
    "# Display the first few rows of the combined DataFrame\n",
    "print(faang.head())\n"
   ]
  },
  {
   "cell_type": "code",
   "execution_count": 4,
   "metadata": {},
   "outputs": [
    {
     "name": "stdout",
     "output_type": "stream",
     "text": [
      "        date         high          low         open        close     volume  \\\n",
      "0 2018-01-02    43.075001    42.314999    42.540001    43.064999  102223600   \n",
      "1 2018-01-02  1190.000000  1170.510010  1172.000000  1189.010010    2694500   \n",
      "2 2018-01-02   181.580002   177.550003   177.679993   181.419998   18151900   \n",
      "3 2018-01-02  1066.939941  1045.229980  1048.339966  1065.000000    1237600   \n",
      "4 2018-01-02   201.649994   195.419998   196.100006   201.070007   10966900   \n",
      "\n",
      "  ticker  \n",
      "0   AAPL  \n",
      "1   AMZN  \n",
      "2     FB  \n",
      "3   GOOG  \n",
      "4   NFLX  \n"
     ]
    }
   ],
   "source": [
    "#this line reads the stock data from the faang.csv file and stores it in a DataFrame called faang\n",
    "faang = pd.read_csv('faang.csv')\n",
    "\n",
    "# Step 1: Convert the 'date' column to datetime\n",
    "faang['date'] = pd.to_datetime(faang['date'])\n",
    "\n",
    "# Step 2: Convert the 'volume' column to integers\n",
    "faang['volume'] = faang['volume'].astype(int)\n",
    "\n",
    "# Step 3: Sort by 'date' and 'ticker'\n",
    "faang.sort_values(by=['date', 'ticker'], inplace=True)\n",
    "\n",
    "# Optionally, reset the index after sorting\n",
    "faang.reset_index(drop=True, inplace=True)\n",
    "\n",
    "# Display the first few rows to verify changes\n",
    "print(faang.head())"
   ]
  },
  {
   "cell_type": "code",
   "execution_count": 5,
   "metadata": {},
   "outputs": [
    {
     "name": "stdout",
     "output_type": "stream",
     "text": [
      "           date         high          low         open        close  volume  \\\n",
      "633  2018-07-03  1135.819946  1100.020020  1135.819946  1102.890015  679000   \n",
      "1133 2018-11-23  1037.589966  1022.398987  1030.000000  1023.880005  691500   \n",
      "498  2018-05-24  1080.469971  1066.150024  1079.000000  1079.239990  766800   \n",
      "653  2018-07-10  1159.589966  1149.589966  1156.979980  1152.839966  798400   \n",
      "763  2018-08-09  1255.541992  1246.010010  1249.900024  1249.099976  848600   \n",
      "798  2018-08-20  1211.000000  1194.625977  1205.020020  1207.770020  870800   \n",
      "808  2018-08-22  1211.839966  1199.000000  1200.000000  1207.329956  887400   \n",
      "\n",
      "     ticker  \n",
      "633    GOOG  \n",
      "1133   GOOG  \n",
      "498    GOOG  \n",
      "653    GOOG  \n",
      "763    GOOG  \n",
      "798    GOOG  \n",
      "808    GOOG  \n"
     ]
    }
   ],
   "source": [
    "# Find the seven rows with the lowest volume\n",
    "lowest_volume_rows = faang.nsmallest(7, 'volume')\n",
    "\n",
    "# Display the result\n",
    "print(lowest_volume_rows)\n"
   ]
  },
  {
   "cell_type": "code",
   "execution_count": 6,
   "metadata": {},
   "outputs": [
    {
     "name": "stdout",
     "output_type": "stream",
     "text": [
      "        date ticker measurement        value\n",
      "0 2018-01-02   AAPL        open    42.540001\n",
      "1 2018-01-02   AMZN        open  1172.000000\n",
      "2 2018-01-02     FB        open   177.679993\n",
      "3 2018-01-02   GOOG        open  1048.339966\n",
      "4 2018-01-02   NFLX        open   196.100006\n"
     ]
    }
   ],
   "source": [
    "# Melt the DataFrame to make it completely long format\n",
    "faang_long = faang.melt(id_vars=['date', 'ticker'], \n",
    "                         value_vars=['open', 'high', 'low', 'close', 'volume'], \n",
    "                         var_name='measurement', \n",
    "                         value_name='value')\n",
    "\n",
    "# Display the first few rows of the long format DataFrame\n",
    "print(faang_long.head())\n"
   ]
  },
  {
   "cell_type": "markdown",
   "metadata": {},
   "source": [
    "Handling data glitches, such as the one on July 26, 2018, requires careful consideration. Here are some steps you could take:\n",
    "\n",
    "1. Identify the Glitch: Review the data for that specific date to understand the nature of the glitch. This could involve looking for anomalies, such as missing values, unrealistic high or low values, or inconsistencies in the data.\n",
    "\n",
    "2. Assess Impact: Determine how this glitch affects your analysis. If it's a minor issue that doesn't significantly impact results, you might consider keeping the data with a note.\n",
    "\n",
    "3. Correction Options:\n",
    "    - Imputation: If possible, estimate or impute reasonable values based on surrounding data (e.g., using averages from adjacent days).\n",
    "    - Removal: If the data is too compromised, you might choose to remove that date’s data entirely from your analysis.\n",
    "    - Flagging: If you keep the data, flag the affected entries in your dataset to indicate that they may not be reliable.\n",
    "\n",
    "4. Document the Issue: Make detailed notes about the glitch, how it was identified, and the steps taken to address it. This is important for transparency and for anyone reviewing your work.\n",
    "\n",
    "5. Communicate Findings: If the data is to be shared or used in reporting, communicate the issue and how it was handled to stakeholders, ensuring they understand any limitations in the analysis."
   ]
  }
 ],
 "metadata": {
  "kernelspec": {
   "display_name": "Python 3",
   "language": "python",
   "name": "python3"
  },
  "language_info": {
   "codemirror_mode": {
    "name": "ipython",
    "version": 3
   },
   "file_extension": ".py",
   "mimetype": "text/x-python",
   "name": "python",
   "nbconvert_exporter": "python",
   "pygments_lexer": "ipython3",
   "version": "3.12.0"
  }
 },
 "nbformat": 4,
 "nbformat_minor": 2
}
