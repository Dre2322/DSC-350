{
 "cells": [
  {
   "cell_type": "code",
   "execution_count": 1,
   "metadata": {},
   "outputs": [],
   "source": [
    "\"\"\"\n",
    "Author: Andres Melendez\n",
    "Description: This script retrieves and transforms player data from the Fantasy Football Data Pros API for 2019.\n",
    "\"\"\"\n",
    "\n",
    "import requests\n",
    "import pandas as pd\n",
    "import json\n",
    "\n",
    "def fetch_api_data(url: str) -> pd.DataFrame:\n",
    "    try:\n",
    "        response = requests.get(url)\n",
    "        response.raise_for_status()\n",
    "        data = response.json()\n",
    "        df = pd.DataFrame(data)\n",
    "        return df\n",
    "    except requests.exceptions.HTTPError as http_err:\n",
    "        print(f\"HTTP error occurred: {http_err}\")\n",
    "    except Exception as err:\n",
    "        print(f\"An error occurred: {err}\")\n",
    "    finally:\n",
    "        print(\"API data retrieval process complete.\")\n"
   ]
  },
  {
   "cell_type": "code",
   "execution_count": 2,
   "metadata": {},
   "outputs": [],
   "source": [
    "def flatten_stats(df: pd.DataFrame) -> pd.DataFrame:\n",
    "    stats_data = df['stats'].apply(pd.Series)  # Flatten the 'stats' column into a DataFrame\n",
    "    passing_stats = stats_data['passing'].apply(pd.Series)\n",
    "    rushing_stats = stats_data['rushing'].apply(pd.Series)\n",
    "    receiving_stats = stats_data['receiving'].apply(pd.Series)\n",
    "\n",
    "    # Safely extract statistics using .get() to avoid KeyErrors\n",
    "    df['Passing Yards'] = passing_stats.get('passing_yds')\n",
    "    df['Rushing Yards'] = rushing_stats.get('rushing_yds')\n",
    "    df['Receiving Yards'] = receiving_stats.get('receiving_yds')\n",
    "    df['Passing TDs'] = passing_stats.get('passing_tds')\n",
    "    df['Rushing TDs'] = rushing_stats.get('rushing_tds')\n",
    "    df['Receiving TDs'] = receiving_stats.get('receiving_tds')\n",
    "\n",
    "    return df\n"
   ]
  },
  {
   "cell_type": "code",
   "execution_count": 3,
   "metadata": {},
   "outputs": [],
   "source": [
    "def clean_and_transform_data(df: pd.DataFrame) -> pd.DataFrame:\n",
    "    df = flatten_stats(df)\n",
    "\n",
    "    # Drop the 'stats' column because it contains nested dictionaries\n",
    "    df = df.drop(columns=['stats'])\n",
    "\n",
    "    # Rename columns to be more readable\n",
    "    df = df.rename(columns={'player_name': 'Player Name', 'position': 'Position', 'team': 'Team', 'games_played': 'Games Played', 'fumbles_lost': 'Fumbles Lost'})\n",
    "    \n",
    "    # Fix casing for team and position\n",
    "    df['Team'] = df['Team'].str.upper()\n",
    "    df['Position'] = df['Position'].str.upper()\n",
    "\n",
    "    # Drop duplicates (now safe because 'stats' column with dictionaries is removed)\n",
    "    df = df.drop_duplicates()\n",
    "\n",
    "    # Convert relevant columns to numeric\n",
    "    numeric_cols = ['Passing Yards', 'Passing TDs', 'Rushing Yards', 'Rushing TDs', 'Receiving Yards', 'Receiving TDs', 'Games Played', 'Fumbles Lost']\n",
    "    df[numeric_cols] = df[numeric_cols].apply(pd.to_numeric, errors='coerce')\n",
    "\n",
    "    # Add new columns (e.g., Total Yards)\n",
    "    df['Total Yards'] = df['Passing Yards'].fillna(0) + df['Rushing Yards'].fillna(0) + df['Receiving Yards'].fillna(0)\n",
    "\n",
    "    return df\n"
   ]
  },
  {
   "cell_type": "code",
   "execution_count": 4,
   "metadata": {},
   "outputs": [
    {
     "name": "stdout",
     "output_type": "stream",
     "text": [
      "API data retrieval process complete.\n",
      "   Fumbles Lost  Games Played          Player Name Position Team  \\\n",
      "0           0.0          16.0  Christian McCaffrey       RB  CAR   \n",
      "1           2.0          15.0        Lamar Jackson       QB  BAL   \n",
      "2           3.0          15.0        Derrick Henry       RB  TEN   \n",
      "3           2.0          16.0          Aaron Jones       RB  GNB   \n",
      "4           2.0          16.0      Ezekiel Elliott       RB  DAL   \n",
      "\n",
      "   Passing Yards  Rushing Yards  Receiving Yards  Passing TDs  Rushing TDs  \\\n",
      "0            0.0         1387.0           1005.0          NaN          NaN   \n",
      "1         3127.0         1206.0              0.0          NaN          NaN   \n",
      "2            0.0         1540.0            206.0          NaN          NaN   \n",
      "3            0.0         1084.0            474.0          NaN          NaN   \n",
      "4            0.0         1357.0            420.0          NaN          NaN   \n",
      "\n",
      "   Receiving TDs  Total Yards  \n",
      "0            NaN       2392.0  \n",
      "1            NaN       4333.0  \n",
      "2            NaN       1746.0  \n",
      "3            NaN       1558.0  \n",
      "4            NaN       1777.0  \n"
     ]
    }
   ],
   "source": [
    "def main():\n",
    "    url = 'https://www.fantasyfootballdatapros.com/api/players/2019/all'\n",
    "    api_data = fetch_api_data(url)\n",
    "    if api_data is not None and not api_data.empty:\n",
    "        transformed_data = clean_and_transform_data(api_data)\n",
    "        print(transformed_data.head())\n",
    "    else:\n",
    "        print(\"No data available for transformation.\")\n",
    "\n",
    "if __name__ == \"__main__\":\n",
    "    main()\n"
   ]
  }
 ],
 "metadata": {
  "kernelspec": {
   "display_name": "Python 3",
   "language": "python",
   "name": "python3"
  },
  "language_info": {
   "codemirror_mode": {
    "name": "ipython",
    "version": 3
   },
   "file_extension": ".py",
   "mimetype": "text/x-python",
   "name": "python",
   "nbconvert_exporter": "python",
   "pygments_lexer": "ipython3",
   "version": "3.12.0"
  }
 },
 "nbformat": 4,
 "nbformat_minor": 2
}
