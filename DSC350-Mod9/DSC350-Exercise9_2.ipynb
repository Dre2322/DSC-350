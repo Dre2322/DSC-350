{
 "cells": [
  {
   "cell_type": "code",
   "execution_count": 1,
   "metadata": {},
   "outputs": [],
   "source": [
    "# Author: Andres Melendez\n",
    "# Date: 2024-10-14\n",
    "# Description: Generates a 3x4 NumPy array after seeding the random generator, saves it as np.csv,\n",
    "# reads the CSV as a DataFrame, and writes it to another CSV file.\n",
    "\n",
    "import numpy as np\n",
    "import pandas as pd\n",
    "\n",
    "def generate_array(seed: int, shape: tuple) -> np.ndarray:\n",
    "    \"\"\"\n",
    "    Generates a random NumPy array with the given seed and shape.\n",
    "    \n",
    "    :param seed: The random seed to ensure reproducibility.\n",
    "    :param shape: The desired shape of the array.\n",
    "    :return: A NumPy array with random values.\n",
    "    \"\"\"\n",
    "    np.random.seed(seed)\n",
    "    return np.random.rand(*shape)\n"
   ]
  },
  {
   "cell_type": "code",
   "execution_count": 2,
   "metadata": {},
   "outputs": [],
   "source": [
    "def save_array_to_csv(array: np.ndarray, filename: str) -> None:\n",
    "    \"\"\"\n",
    "    Saves the NumPy array to a CSV file.\n",
    "    \n",
    "    :param array: The NumPy array to save.\n",
    "    :param filename: The name of the file to save the array in.\n",
    "    \"\"\"\n",
    "    np.savetxt(filename, array, delimiter=',')\n"
   ]
  },
  {
   "cell_type": "code",
   "execution_count": 3,
   "metadata": {},
   "outputs": [],
   "source": [
    "def read_csv_to_dataframe(filename: str) -> pd.DataFrame:\n",
    "    \"\"\"\n",
    "    Reads a CSV file and converts it to a Pandas DataFrame.\n",
    "    \n",
    "    :param filename: The name of the CSV file to read.\n",
    "    :return: A Pandas DataFrame containing the CSV data.\n",
    "    \"\"\"\n",
    "    return pd.read_csv(filename, header=None)\n",
    "\n"
   ]
  },
  {
   "cell_type": "code",
   "execution_count": 4,
   "metadata": {},
   "outputs": [],
   "source": [
    "def write_dataframe_to_csv(dataframe: pd.DataFrame, filename: str) -> None:\n",
    "    \"\"\"\n",
    "    Writes a Pandas DataFrame to a CSV file.\n",
    "    \n",
    "    :param dataframe: The DataFrame to write.\n",
    "    :param filename: The name of the file to save the DataFrame in.\n",
    "    \"\"\"\n",
    "    dataframe.to_csv(filename, index=False)\n",
    "\n"
   ]
  },
  {
   "cell_type": "code",
   "execution_count": 5,
   "metadata": {},
   "outputs": [
    {
     "name": "stdout",
     "output_type": "stream",
     "text": [
      "          0         1         2         3\n",
      "0  0.374540  0.950714  0.731994  0.598658\n",
      "1  0.156019  0.155995  0.058084  0.866176\n",
      "2  0.601115  0.708073  0.020584  0.969910\n",
      "Process completed.\n"
     ]
    }
   ],
   "source": [
    "# Main logic\n",
    "try:\n",
    "    # Generate a 3x4 NumPy array with a random seed of 42\n",
    "    array = generate_array(seed=42, shape=(3, 4))\n",
    "\n",
    "    # Save the array to np.csv\n",
    "    save_array_to_csv(array, 'np.csv')\n",
    "\n",
    "    # Read the CSV file into a DataFrame\n",
    "    df = read_csv_to_dataframe('np.csv')\n",
    "\n",
    "    # Print the DataFrame to verify the contents\n",
    "    print(df)\n",
    "\n",
    "    # Write the DataFrame to a new CSV file\n",
    "    write_dataframe_to_csv(df, 'df_output.csv')\n",
    "\n",
    "except Exception as e:\n",
    "    # Handle any exceptions during file operations or array manipulations\n",
    "    print(f\"An error occurred: {e}\")\n",
    "finally:\n",
    "    print(\"Process completed.\")\n"
   ]
  },
  {
   "cell_type": "code",
   "execution_count": 6,
   "metadata": {},
   "outputs": [],
   "source": [
    "# Description: Generates a 365x4 NumPy array with random values, stores it in CSV and NumPy formats, \n",
    "# checks the file sizes and shapes, and works with a Pandas DataFrame to save and retrieve the data using pickle.\n",
    "\n",
    "import os\n",
    "import pickle\n",
    "\n",
    "def generate_array(shape: tuple) -> np.ndarray:\n",
    "    \"\"\"\n",
    "    Generates a random NumPy array with the specified shape.\n",
    "    \n",
    "    :param shape: The desired shape of the array.\n",
    "    :return: A NumPy array with random values.\n",
    "    \"\"\"\n",
    "    return np.random.rand(*shape)\n"
   ]
  },
  {
   "cell_type": "code",
   "execution_count": 7,
   "metadata": {},
   "outputs": [],
   "source": [
    "def get_file_size(filename: str) -> int:\n",
    "    \"\"\"\n",
    "    Returns the size of the file in bytes.\n",
    "    \n",
    "    :param filename: The name of the file to check.\n",
    "    :return: The size of the file in bytes.\n",
    "    \"\"\"\n",
    "    return os.path.getsize(filename)\n"
   ]
  },
  {
   "cell_type": "code",
   "execution_count": 8,
   "metadata": {},
   "outputs": [],
   "source": [
    "def save_array_numpy_format(array: np.ndarray, filename: str) -> None:\n",
    "    \"\"\"\n",
    "    Saves the NumPy array in .npy format.\n",
    "    \n",
    "    :param array: The NumPy array to save.\n",
    "    :param filename: The name of the file to save the array in.\n",
    "    \"\"\"\n",
    "    np.save(filename, array)\n"
   ]
  },
  {
   "cell_type": "code",
   "execution_count": 9,
   "metadata": {},
   "outputs": [],
   "source": [
    "def load_array_numpy_format(filename: str) -> np.ndarray:\n",
    "    \"\"\"\n",
    "    Loads a NumPy array from a .npy file.\n",
    "    \n",
    "    :param filename: The name of the file to load the array from.\n",
    "    :return: The loaded NumPy array.\n",
    "    \"\"\"\n",
    "    return np.load(filename)\n"
   ]
  },
  {
   "cell_type": "code",
   "execution_count": 10,
   "metadata": {},
   "outputs": [],
   "source": [
    "def save_dataframe_to_pickle(dataframe: pd.DataFrame, filename: str) -> None:\n",
    "    \"\"\"\n",
    "    Saves a Pandas DataFrame to a pickle file.\n",
    "    \n",
    "    :param dataframe: The DataFrame to save.\n",
    "    :param filename: The name of the pickle file.\n",
    "    \"\"\"\n",
    "    with open(filename, 'wb') as f:\n",
    "        pickle.dump(dataframe, f)\n"
   ]
  },
  {
   "cell_type": "code",
   "execution_count": 11,
   "metadata": {},
   "outputs": [],
   "source": [
    "def load_dataframe_from_pickle(filename: str) -> pd.DataFrame:\n",
    "    \"\"\"\n",
    "    Loads a Pandas DataFrame from a pickle file.\n",
    "    \n",
    "    :param filename: The name of the pickle file.\n",
    "    :return: The loaded DataFrame.\n",
    "    \"\"\"\n",
    "    with open(filename, 'rb') as f:\n",
    "        return pickle.load(f)\n"
   ]
  },
  {
   "cell_type": "code",
   "execution_count": 12,
   "metadata": {},
   "outputs": [
    {
     "name": "stdout",
     "output_type": "stream",
     "text": [
      "CSV file size: 36865 bytes\n",
      "NumPy file size: 11808 bytes\n",
      "Loaded NumPy array shape: (365, 4)\n",
      "Pickle file size: 12375 bytes\n",
      "Process completed.\n"
     ]
    }
   ],
   "source": [
    "# Main logic\n",
    "try:\n",
    "    # Generate a 365x4 NumPy array with random values\n",
    "    array = generate_array(shape=(365, 4))\n",
    "\n",
    "    # Save the array to a CSV file and check its size\n",
    "    csv_filename = 'np_array.csv'\n",
    "    save_array_to_csv(array, csv_filename)\n",
    "    csv_size = get_file_size(csv_filename)\n",
    "    print(f\"CSV file size: {csv_size} bytes\")\n",
    "\n",
    "    # Save the array in NumPy format and check its shape and file size\n",
    "    npy_filename = 'np_array.npy'\n",
    "    save_array_numpy_format(array, npy_filename)\n",
    "    loaded_array = load_array_numpy_format(npy_filename)\n",
    "    npy_size = get_file_size(npy_filename)\n",
    "    print(f\"NumPy file size: {npy_size} bytes\")\n",
    "    print(f\"Loaded NumPy array shape: {loaded_array.shape}\")\n",
    "\n",
    "    # Create a DataFrame from the array, save it to a pickle file, and retrieve it\n",
    "    df = pd.DataFrame(array, columns=['Column1', 'Column2', 'Column3', 'Column4'])\n",
    "    pickle_filename = 'df_pickle.pkl'\n",
    "    save_dataframe_to_pickle(df, pickle_filename)\n",
    "\n",
    "    # Load the DataFrame from the pickle file and print its size\n",
    "    loaded_df = load_dataframe_from_pickle(pickle_filename)\n",
    "    pickle_size = get_file_size(pickle_filename)\n",
    "    print(f\"Pickle file size: {pickle_size} bytes\")\n",
    "\n",
    "except Exception as e:\n",
    "    print(f\"An error occurred: {e}\")\n",
    "finally:\n",
    "    print(\"Process completed.\")"
   ]
  },
  {
   "cell_type": "code",
   "execution_count": 13,
   "metadata": {},
   "outputs": [],
   "source": [
    "# Description: Saves a NumPy array to an Excel file, reads it back into a DataFrame, and prints the results.\n",
    "\n",
    "def save_array_to_excel(array: np.ndarray, filename: str) -> None:\n",
    "    \"\"\"\n",
    "    Saves the NumPy array to an Excel file.\n",
    "    \n",
    "    :param array: The NumPy array to save.\n",
    "    :param filename: The name of the Excel file to save the array in.\n",
    "    \"\"\"\n",
    "    df = pd.DataFrame(array, columns=['Column1', 'Column2', 'Column3', 'Column4'])\n",
    "    df.to_excel(filename, index=False)\n"
   ]
  },
  {
   "cell_type": "code",
   "execution_count": 14,
   "metadata": {},
   "outputs": [],
   "source": [
    "def read_excel_to_dataframe(filename: str) -> pd.DataFrame:\n",
    "    \"\"\"\n",
    "    Reads an Excel file and converts it to a Pandas DataFrame.\n",
    "    \n",
    "    :param filename: The name of the Excel file to read.\n",
    "    :return: A Pandas DataFrame containing the Excel data.\n",
    "    \"\"\"\n",
    "    return pd.read_excel(filename)\n"
   ]
  },
  {
   "cell_type": "code",
   "execution_count": 15,
   "metadata": {},
   "outputs": [
    {
     "name": "stdout",
     "output_type": "stream",
     "text": [
      "Array successfully saved to np_array.xlsx\n",
      "DataFrame from Excel file:\n",
      "      Column1   Column2   Column3   Column4\n",
      "0    0.878516  0.404140  0.327033  0.667593\n",
      "1    0.807846  0.762285  0.797814  0.435583\n",
      "2    0.817834  0.120209  0.544489  0.005759\n",
      "3    0.324586  0.366462  0.396173  0.695467\n",
      "4    0.388558  0.448694  0.237544  0.373252\n",
      "..        ...       ...       ...       ...\n",
      "360  0.729345  0.966845  0.224293  0.663047\n",
      "361  0.741896  0.848425  0.422629  0.302931\n",
      "362  0.325295  0.712621  0.816779  0.181614\n",
      "363  0.370941  0.901940  0.806694  0.984858\n",
      "364  0.754248  0.393195  0.590638  0.661014\n",
      "\n",
      "[365 rows x 4 columns]\n",
      "Process completed.\n"
     ]
    }
   ],
   "source": [
    "# Main logic\n",
    "try:\n",
    "    # Generate the same 365x4 NumPy array (from previous steps)\n",
    "    array = np.random.rand(365, 4)\n",
    "\n",
    "    # Save the array to an Excel file\n",
    "    excel_filename = 'np_array.xlsx'\n",
    "    save_array_to_excel(array, excel_filename)\n",
    "    print(f\"Array successfully saved to {excel_filename}\")\n",
    "\n",
    "    # Read the Excel file back into a DataFrame\n",
    "    df_from_excel = read_excel_to_dataframe(excel_filename)\n",
    "\n",
    "    # Print the DataFrame to verify the contents\n",
    "    print(\"DataFrame from Excel file:\")\n",
    "    print(df_from_excel)\n",
    "\n",
    "except Exception as e:\n",
    "    print(f\"An error occurred: {e}\")\n",
    "finally:\n",
    "    print(\"Process completed.\")"
   ]
  },
  {
   "cell_type": "code",
   "execution_count": 16,
   "metadata": {},
   "outputs": [
    {
     "name": "stdout",
     "output_type": "stream",
     "text": [
      "Original country: Netherlands\n",
      "Updated country: Germany\n"
     ]
    }
   ],
   "source": [
    "import json\n",
    "\n",
    "# Define the JSON string\n",
    "json_string = '{\"country\":\"Netherlands\",\"dma_code\":\"0\",\"timezone\":\"Europe/Amsterdam\",\"area_code\":\"0\",\"ip\":\"46.19.37.108\",\"asn\":\"AS196752\",\"continent_code\":\"EU\",\"isp\":\"Tilaa V.O.F.\",\"longitude\":5.75,\"latitude\":52.5,\"country_code\":\"NL\",\"country_code3\":\"NLD\"}'\n",
    "\n",
    "# Parse the JSON string using json.loads()\n",
    "data = json.loads(json_string)\n",
    "\n",
    "# Print the value for the “country” field\n",
    "print(f\"Original country: {data['country']}\")\n",
    "\n",
    "# Overwrite the value for \"Netherlands\" with a new value (e.g., \"Germany\")\n",
    "data['country'] = \"Germany\"\n",
    "\n",
    "# Print the updated dictionary\n",
    "print(f\"Updated country: {data['country']}\")\n"
   ]
  },
  {
   "cell_type": "code",
   "execution_count": 17,
   "metadata": {},
   "outputs": [
    {
     "data": {
      "text/plain": [
       "'{\"country\":\"Belgium\",\"dma_code\":\"0\",\"timezone\":\"Europe\\\\/Amsterdam\",\"area_code\":\"0\",\"ip\":\"46.19.37.108\",\"asn\":\"AS196752\",\"continent_code\":\"EU\",\"isp\":\"Tilaa V.O.F.\",\"longitude\":5.75,\"latitude\":52.5,\"country_code\":\"NL\",\"country_code3\":\"NLD\"}'"
      ]
     },
     "execution_count": 17,
     "metadata": {},
     "output_type": "execute_result"
    }
   ],
   "source": [
    "from io import StringIO\n",
    "\n",
    "# Use StringIO to wrap the JSON string and create a Pandas Series\n",
    "json_io = StringIO(json_string)\n",
    "series = pd.read_json(json_io, typ='series')\n",
    "\n",
    "# Change the country value again (for example, change it to \"Belgium\")\n",
    "series['country'] = \"Belgium\"\n",
    "\n",
    "# Convert the updated Pandas Series back to a JSON string\n",
    "updated_json_string = series.to_json()\n",
    "\n",
    "# Print the updated JSON string\n",
    "updated_json_string\n"
   ]
  },
  {
   "cell_type": "code",
   "execution_count": 18,
   "metadata": {},
   "outputs": [
    {
     "name": "stdout",
     "output_type": "stream",
     "text": [
      "First div\n",
      " <div class=\"tile\">\n",
      "<h4>Development</h4>\n",
      "     0.10.1 - July 2014<br/>\n",
      "</div>\n",
      "First div class ['tile']\n",
      "First dfn text Quare attende, quaeso.\n",
      "Link text loripsum.net URL http://loripsum.net/\n",
      "Link text Poterat autem inpune; URL http://loripsum.net/\n",
      "Link text Is es profecto tu. URL http://loripsum.net/\n",
      "0 ['\\n', <h4>Development</h4>, '\\n     0.10.1 - July 2014', <br/>, '\\n']\n",
      "1 ['\\n', <h4>Official Release</h4>, '\\n     0.10.0 June 2014', <br/>, '\\n']\n",
      "2 ['\\n', <h4>Previous Release</h4>, '\\n     0.09.1 June 2013', <br/>, '\\n']\n",
      "Official Version 0.10.0 June 2014\n",
      "# elements with class 3\n",
      "# Tile classes 2\n",
      "# Divs with class containing tile 3\n",
      "Using CSS selector\n",
      " [<div class=\"notile\">\n",
      "<h4>Previous Release</h4>\n",
      "     0.09.1 June 2013<br/>\n",
      "</div>]\n",
      "Selecting ordered list list items\n",
      " [<li>Cur id non ita fit?</li>, <li>In qua si nihil est praeter rationem, sit in una virtute finis bonorum;</li>]\n",
      "Second list item in ordered list [<li>In qua si nihil est praeter rationem, sit in una virtute finis bonorum;</li>]\n",
      "Searching for text string ['\\n     0.10.1 - July 2014', '\\n     0.10.0 June 2014']\n"
     ]
    }
   ],
   "source": [
    "\"\"\"\n",
    "Title: Exercise 9.2\n",
    "Author: Armando Fandango\n",
    "Date: 24 October 2024\n",
    "Modified By: Andres Melendez\n",
    "Description:This Python script uses BeautifulSoup to parse an HTML file and extract various\n",
    "elements like div, dfn, a tags, and list items. It performs tasks such as counting elements\n",
    "with specific attributes, selecting elements via CSS selectors, and searching for text strings\n",
    "using regular expressions.\n",
    "\"\"\"\n",
    "\n",
    "from bs4 import BeautifulSoup\n",
    "import re\n",
    "\n",
    "# Parsing the HTML file using BeautifulSoup\n",
    "soup = BeautifulSoup(open('loremIpsum.html'), \"html.parser\")\n",
    "\n",
    "# Printing the first 'div' and its class attribute\n",
    "print(\"First div\\n\", soup.div)\n",
    "print(\"First div class\", soup.div['class'])\n",
    "\n",
    "# Printing the text of the first 'dfn' inside 'dl > dt'\n",
    "print(\"First dfn text\", soup.dl.dt.dfn.text)\n",
    "\n",
    "# Iterating through all 'a' tags and printing their text and href attribute\n",
    "for link in soup.find_all('a'):\n",
    "    print(\"Link text\", link.string, \"URL\", link.get('href'))\n",
    "\n",
    "# Enumerating through all 'div' tags and printing their contents\n",
    "for i, div in enumerate(soup('div')):\n",
    "    print(i, div.contents)\n",
    "\n",
    "# Searching for a 'div' with id=\"official\" and printing the third element's content\n",
    "official_div = soup.find_all(\"div\", id=\"official\")\n",
    "print(\"Official Version\", official_div[0].contents[2].strip())\n",
    "\n",
    "# Counting and printing the number of elements with a class attribute\n",
    "print(\"# elements with class\", len(soup.find_all(class_=True)))\n",
    "\n",
    "# Finding and counting 'div' tags with class=\"tile\"\n",
    "tile_class = soup.find_all(\"div\", class_=\"tile\")\n",
    "print(\"# Tile classes\", len(tile_class))\n",
    "\n",
    "# Finding and counting 'div' tags with a class name containing \"tile\"\n",
    "print(\"# Divs with class containing tile\", len(soup.find_all(\"div\", class_=re.compile(\"tile\"))))\n",
    "\n",
    "# Using a CSS selector to find and print 'div' elements with class 'notile'\n",
    "print(\"Using CSS selector\\n\", soup.select('div.notile'))\n",
    "\n",
    "# Selecting the first two list items in an ordered list and printing them\n",
    "print(\"Selecting ordered list list items\\n\", soup.select(\"ol > li\")[:2])\n",
    "\n",
    "# Printing the second list item in the ordered list using nth-of-type CSS selector\n",
    "print(\"Second list item in ordered list\", soup.select(\"ol > li:nth-of-type(2)\"))\n",
    "\n",
    "# Searching for text strings matching \"2014\" using a regex\n",
    "print(\"Searching for text string\", soup.find_all(string=re.compile(\"2014\")))\n"
   ]
  }
 ],
 "metadata": {
  "kernelspec": {
   "display_name": "Python 3",
   "language": "python",
   "name": "python3"
  },
  "language_info": {
   "codemirror_mode": {
    "name": "ipython",
    "version": 3
   },
   "file_extension": ".py",
   "mimetype": "text/x-python",
   "name": "python",
   "nbconvert_exporter": "python",
   "pygments_lexer": "ipython3",
   "version": "3.12.0"
  }
 },
 "nbformat": 4,
 "nbformat_minor": 2
}
