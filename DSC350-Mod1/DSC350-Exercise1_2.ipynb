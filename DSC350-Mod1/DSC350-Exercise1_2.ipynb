{
 "cells": [
  {
   "cell_type": "code",
   "execution_count": 1,
   "metadata": {},
   "outputs": [
    {
     "data": {
      "text/plain": [
       "'\\n      Title: Basic Python Operations\\n     Author: Original Author(s)\\n       Date: 26 August 2024\\nModified By: Andres Melendez\\nDescription: This program demonstrates basic Python operations, including arithmetic operations, string concatenation, list manipulation, and tuple creation.\\n'"
      ]
     },
     "execution_count": 1,
     "metadata": {},
     "output_type": "execute_result"
    }
   ],
   "source": [
    "\"\"\"\n",
    "      Title: Basic Python Operations\n",
    "     Author: Original Author(s)\n",
    "       Date: 26 August 2024\n",
    "Modified By: Andres Melendez\n",
    "Description: This program demonstrates basic Python operations, including arithmetic operations, string concatenation, list manipulation, and tuple creation.\n",
    "\"\"\"\n"
   ]
  },
  {
   "cell_type": "code",
   "execution_count": 2,
   "metadata": {},
   "outputs": [
    {
     "name": "stdout",
     "output_type": "stream",
     "text": [
      "Hello World! I wonder why that is always the default coding text to start with\n"
     ]
    }
   ],
   "source": [
    "# Task 1: Display the text \"Hello World! I wonder why that is always the default coding text to start with\"\n",
    "hello_text = \"Hello World! I wonder why that is always the default coding text to start with\"\n",
    "print(hello_text)  # Display the greeting and commentary\n"
   ]
  },
  {
   "cell_type": "code",
   "execution_count": 3,
   "metadata": {},
   "outputs": [
    {
     "name": "stdout",
     "output_type": "stream",
     "text": [
      "Addition Result: 15\n"
     ]
    }
   ],
   "source": [
    "# Task 2: Add two numbers together\n",
    "addition_result = 10 + 5\n",
    "print(\"Addition Result:\", addition_result)  # Output the result of adding 10 and 5\n"
   ]
  },
  {
   "cell_type": "code",
   "execution_count": 4,
   "metadata": {},
   "outputs": [
    {
     "name": "stdout",
     "output_type": "stream",
     "text": [
      "Subtraction Result: 5\n"
     ]
    }
   ],
   "source": [
    "# Task 3: Subtract a number from another number\n",
    "subtraction_result = 10 - 5\n",
    "print(\"Subtraction Result:\", subtraction_result)  # Output the result of subtracting 5 from 10\n"
   ]
  },
  {
   "cell_type": "code",
   "execution_count": 5,
   "metadata": {},
   "outputs": [
    {
     "name": "stdout",
     "output_type": "stream",
     "text": [
      "Multiplication Result: 50\n"
     ]
    }
   ],
   "source": [
    "# Task 4: Multiply two numbers\n",
    "multiplication_result = 10 * 5\n",
    "print(\"Multiplication Result:\", multiplication_result)  # Output the result of multiplying 10 by 5\n"
   ]
  },
  {
   "cell_type": "code",
   "execution_count": 6,
   "metadata": {},
   "outputs": [
    {
     "name": "stdout",
     "output_type": "stream",
     "text": [
      "Division Result: 2.0\n"
     ]
    }
   ],
   "source": [
    "# Task 5: Divide between two numbers\n",
    "division_result = 10 / 5\n",
    "print(\"Division Result:\", division_result)  # Output the result of dividing 10 by 5\n"
   ]
  },
  {
   "cell_type": "code",
   "execution_count": 7,
   "metadata": {},
   "outputs": [
    {
     "name": "stdout",
     "output_type": "stream",
     "text": [
      "Concatenated Strings: Hello World!\n"
     ]
    }
   ],
   "source": [
    "# Task 6: Concatenate two strings together\n",
    "concatenated_strings = \"Hello\" + \" \" + \"World!\"\n",
    "print(\"Concatenated Strings:\", concatenated_strings)  # Output the concatenation of \"Hello\" and \"World!\"\n"
   ]
  },
  {
   "cell_type": "code",
   "execution_count": 8,
   "metadata": {},
   "outputs": [
    {
     "name": "stdout",
     "output_type": "stream",
     "text": [
      "Original List: [1, 'apple', 3.14, True]\n"
     ]
    }
   ],
   "source": [
    "# Task 7: Create a list of 4 items\n",
    "my_list = [1, \"apple\", 3.14, True]\n",
    "print(\"Original List:\", my_list)  # Output the original list\n"
   ]
  },
  {
   "cell_type": "code",
   "execution_count": 9,
   "metadata": {},
   "outputs": [
    {
     "name": "stdout",
     "output_type": "stream",
     "text": [
      "List after Append: [1, 'apple', 3.14, True, 'new item']\n"
     ]
    }
   ],
   "source": [
    "# Task 8: Append an item to your list\n",
    "my_list.append(\"new item\")\n",
    "print(\"List after Append:\", my_list)  # Output the list after appending \"new item\"\n"
   ]
  },
  {
   "cell_type": "code",
   "execution_count": 10,
   "metadata": {},
   "outputs": [
    {
     "name": "stdout",
     "output_type": "stream",
     "text": [
      "Tuple: (2, 'banana', 6.28, False)\n"
     ]
    }
   ],
   "source": [
    "# Task 9: Create a tuple with 4 items\n",
    "my_tuple = (2, \"banana\", 6.28, False)\n",
    "print(\"Tuple:\", my_tuple)  # Output the created tuple\n"
   ]
  },
  {
   "cell_type": "markdown",
   "metadata": {},
   "source": [
    "2. Is All Data Normally Distributed?\n",
    "    No, not all data is normally distributed. The normal distribution is just one type of distribution. Many real-world datasets follow different distributions, such as skewed distributions, bimodal distributions, or uniform distributions. The shape of the distribution is determined by the underlying processes generating the data."
   ]
  },
  {
   "cell_type": "markdown",
   "metadata": {},
   "source": [
    "3. Median vs. Mean\n",
    "    The median is often used instead of the mean when the data is skewed or has outliers. The median is a more robust measure of central tendency in such cases because it is not affected by extreme values, whereas the mean can be heavily influenced by them."
   ]
  },
  {
   "cell_type": "code",
   "execution_count": 11,
   "metadata": {},
   "outputs": [
    {
     "data": {
      "text/plain": [
       "'\\n\\n      Title: Exercise 4: Generate the data by running this cell\\n     Author: Stefanie Molin\\n       Date: 31 August 2024\\nModified By: Andres Melendez\\nDescription: This will give you a list of numbers to work with in the remaining exercises.\\n\\n'"
      ]
     },
     "execution_count": 11,
     "metadata": {},
     "output_type": "execute_result"
    }
   ],
   "source": [
    "\"\"\"\n",
    "\n",
    "      Title: Exercise 4: Generate the data by running this cell\n",
    "     Author: Stefanie Molin\n",
    "       Date: 31 August 2024\n",
    "Modified By: Andres Melendez\n",
    "Description: This will give you a list of numbers to work with in the remaining exercises.\n",
    "\n",
    "\"\"\"\n"
   ]
  },
  {
   "cell_type": "code",
   "execution_count": 12,
   "metadata": {},
   "outputs": [],
   "source": [
    "# 4. Running the Code in the First Cell of exercises.ipynb\n",
    "\n",
    "import random\n",
    "\n",
    "random.seed(0)\n",
    "salaries = [round(random.random()*1000000, -3) for _ in range(100)]"
   ]
  },
  {
   "cell_type": "code",
   "execution_count": 13,
   "metadata": {},
   "outputs": [
    {
     "name": "stdout",
     "output_type": "stream",
     "text": [
      "Mean: 585690.0 \n",
      "Median: 589000.0 \n",
      "Mode: 477000.0 \n",
      "Variance: 70664054444.44444 \n",
      "Standard Deviation: 265827.11382484\n"
     ]
    }
   ],
   "source": [
    "# 5 Calculating Statistics Manually\n",
    "\n",
    "# Calculate mean\n",
    "data = salaries \n",
    "mean = sum(data) / len(data)\n",
    "\n",
    "# Calculate median\n",
    "sorted_data = sorted(data)\n",
    "n = len(sorted_data)\n",
    "if n % 2 == 0:\n",
    "    median = (sorted_data[n//2 - 1] + sorted_data[n//2]) / 2\n",
    "else:\n",
    "    median = sorted_data[n//2]\n",
    "\n",
    "# Mode calculation using Counter\n",
    "from collections import Counter\n",
    "mode = Counter(data).most_common(1)[0][0]\n",
    "\n",
    "# Sample Variance\n",
    "variance = sum((x - mean) ** 2 for x in data) / (len(data) - 1)\n",
    "\n",
    "# Sample Standard Deviation\n",
    "std_dev = variance ** 0.5\n",
    "\n",
    "\n",
    "print(f'Mean: {mean} \\nMedian: {median} \\nMode: {mode} \\nVariance: {variance} \\nStandard Deviation: {std_dev}')\n"
   ]
  },
  {
   "cell_type": "code",
   "execution_count": 14,
   "metadata": {},
   "outputs": [
    {
     "name": "stdout",
     "output_type": "stream",
     "text": [
      "Range: 995000.0 \n",
      "Coefficient of Variation: 0.45386998894439035, \n",
      "Interquartile Range: 413250.0 \n",
      "Quartile Coefficient of Dispersion: 0.338660110633067\n"
     ]
    }
   ],
   "source": [
    "# 6. Using the statistics Module\n",
    "\n",
    "import statistics\n",
    "import numpy as np\n",
    "\n",
    "# Range\n",
    "range_value = max(data) - min(data)\n",
    "\n",
    "# Coefficient of Variation\n",
    "coeff_var = statistics.stdev(data) / statistics.mean(data)\n",
    "\n",
    "# Interquartile Range\n",
    "Q1 = np.percentile(data, 25)\n",
    "Q3 = np.percentile(data, 75)\n",
    "iqr = Q3 - Q1\n",
    "\n",
    "# Quartile Coefficient of Dispersion\n",
    "qcd = (Q3 - Q1) / (Q3 + Q1)\n",
    "\n",
    "\n",
    "print(f'Range: {range_value} \\nCoefficient of Variation: {coeff_var}, \\nInterquartile Range: {iqr} \\nQuartile Coefficient of Dispersion: {qcd}')\n"
   ]
  },
  {
   "cell_type": "code",
   "execution_count": 15,
   "metadata": {},
   "outputs": [
    {
     "name": "stdout",
     "output_type": "stream",
     "text": [
      "Min-Max Scaling: [0.8472361809045226, 0.7608040201005025, 0.4221105527638191, 0.2592964824120603, 0.5125628140703518, 0.40603015075376886, 0.7869346733668342, 0.3035175879396985, 0.47839195979899496, 0.5849246231155779, 0.9115577889447236, 0.5065326633165829, 0.28241206030150756, 0.7587939698492462, 0.6201005025125628, 0.25125628140703515, 0.91356783919598, 0.9869346733668342, 0.8130653266331658, 0.9055276381909547, 0.31055276381909547, 0.7326633165829146, 0.9025125628140703, 0.6864321608040201, 0.4733668341708543, 0.10050251256281408, 0.43517587939698493, 0.6130653266331658, 0.9165829145728643, 0.9708542713567839, 0.47839195979899496, 0.8683417085427135, 0.26030150753768844, 0.8080402010050252, 0.5507537688442211, 0.01306532663316583, 0.7226130653266332, 0.4, 0.828140703517588, 0.6703517587939698, 0.0, 0.49547738693467336, 0.871356783919598, 0.2442211055276382, 0.3256281407035176, 0.8733668341708543, 0.19095477386934673, 0.5698492462311557, 0.23919597989949748, 0.9718592964824121, 0.8060301507537688, 0.4492462311557789, 0.07939698492462312, 0.32060301507537686, 0.5095477386934674, 0.9366834170854271, 0.10854271356783919, 0.5527638190954773, 0.7095477386934673, 0.5487437185929648, 0.8170854271356784, 0.5417085427135678, 0.9678391959798995, 0.6050251256281407, 0.5899497487437186, 0.4462311557788945, 0.5979899497487438, 0.385929648241206, 0.5778894472361809, 0.2904522613065327, 0.18894472361809045, 0.18693467336683417, 0.6150753768844222, 0.6592964824120603, 0.47839195979899496, 0.08944723618090453, 0.7608040201005025, 0.8804020100502512, 0.9266331658291457, 0.8452261306532663, 0.9015075376884422, 0.9266331658291457, 0.542713567839196, 0.39195979899497485, 0.7075376884422111, 0.27638190954773867, 0.8150753768844221, 0.8522613065326633, 0.8984924623115578, 0.5919597989949749, 0.9537688442211055, 0.5819095477386935, 0.45226130653266333, 0.6623115577889447, 1.0, 0.9206030150753769, 0.7959798994974875, 0.0814070351758794, 0.6150753768844222, 0.48743718592964824] \n",
      "Standardizing: [0.9717217942267801, 0.6482032533127501, -0.6195380058503674, -1.228956652688424, -0.28097209094033604, -0.6797275018343729, 0.7460111842867592, -1.0634355387324086, -0.40887476990634786, -0.010119359012310937, 1.2124797781628023, -0.3035431519343381, -1.142434252211416, 0.6406795663147493, 0.12154516345270126, -1.2590514006804265, 1.220003465160803, 1.4946180405878284, 0.8438191152607681, 1.1899087171688003, -1.037102634239406, 0.5428716353407403, 1.178623186671799, 0.36982683438672426, -0.4276839874013496, -1.8233279255304788, -0.5706340403633628, 0.09521225895969881, 1.2312889956578041, 1.434428544603823, -0.40887476990634786, 1.0507205077057873, -1.2251948091894236, 0.8250098977657664, -0.1380220379783228, -2.150608309943509, 0.5052532003507368, -0.7022985628283751, 0.9002467677457734, 0.3096373384027187, -2.199512275430514, -0.34492343042334195, 1.0620060382027885, -1.285384305173429, -0.9806749817544008, 1.0695297252007891, -1.4847620106204475, -0.06654701149731616, -1.304193522668431, 1.4381903881028233, 0.8174862107677657, -0.517968231377358, -1.9023266390094862, -0.9994841992494026, -0.2922576214373371, 1.3065258656378111, -1.7932331775384762, -0.1304983509803221, 0.4563492348637323, -0.14554572497632348, 0.8588664892567696, -0.17187862946932592, 1.4231430141068218, 0.06511751096769604, 0.008689858482690806, -0.529253761874359, 0.038784606474693596, -0.7549643718143799, -0.03645226350531338, -1.112339504219413, -1.4922856976184482, -1.4998093846164489, 0.10273594595769951, 0.26825705991371485, -0.40887476990634786, -1.8647082040194827, 0.6482032533127501, 1.0958626296937914, 1.2689074306478076, 0.9641981072287793, 1.1748613431727988, 1.2689074306478076, -0.16811678597032556, -0.7323933108203778, 0.4488255478657316, -1.165005313205418, 0.8513428022587689, 0.9905310117217818, 1.1635758126757978, 0.016213545480691503, 1.370477205120817, -0.02140488950931198, -0.5066827008803569, 0.2795425904107159, 1.543522006074833, 1.2463363696538055, 0.7798677757777622, -1.8948029520114855, 0.10273594595769951, -0.37501817841534474]\n"
     ]
    }
   ],
   "source": [
    "# 7. Scaling the Data\n",
    "\n",
    "# Min-max scaling\n",
    "min_value = min(data)\n",
    "max_value = max(data)\n",
    "normalized_data = [(x - min_value) / (max_value - min_value) for x in data]\n",
    "\n",
    "# Standardizing\n",
    "mean_value = statistics.mean(data)\n",
    "std_dev = statistics.stdev(data)\n",
    "standardized_data = [(x - mean_value) / std_dev for x in data]\n",
    "\n",
    "\n",
    "print(f'Min-Max Scaling: {normalized_data} \\nStandardizing: {standardized_data}')\n"
   ]
  },
  {
   "cell_type": "code",
   "execution_count": 16,
   "metadata": {},
   "outputs": [
    {
     "name": "stdout",
     "output_type": "stream",
     "text": [
      "Covariance: 0.2671629284671759 \n",
      "Pearson Correlation Coefficient: 1.0\n"
     ]
    }
   ],
   "source": [
    "#8. Calculating Covariance and Pearson Correlation Coefficient\n",
    "\n",
    "# Covariance calculation\n",
    "covariance = sum((x - statistics.mean(standardized_data)) * \n",
    "                 (y - statistics.mean(normalized_data)) for x, \n",
    "                 y in zip(standardized_data, normalized_data)) / (len(standardized_data) - 1)\n",
    "\n",
    "# Pearson Correlation Coefficient\n",
    "pearson_corr = covariance / (statistics.stdev(standardized_data) * statistics.stdev(normalized_data))\n",
    "\n",
    "\n",
    "print(f'Covariance: {covariance} \\nPearson Correlation Coefficient: {pearson_corr}')\n"
   ]
  }
 ],
 "metadata": {
  "kernelspec": {
   "display_name": "Python 3",
   "language": "python",
   "name": "python3"
  },
  "language_info": {
   "codemirror_mode": {
    "name": "ipython",
    "version": 3
   },
   "file_extension": ".py",
   "mimetype": "text/x-python",
   "name": "python",
   "nbconvert_exporter": "python",
   "pygments_lexer": "ipython3",
   "version": "3.12.0"
  }
 },
 "nbformat": 4,
 "nbformat_minor": 2
}
